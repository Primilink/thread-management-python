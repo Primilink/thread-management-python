{
 "cells": [
  {
   "cell_type": "markdown",
   "metadata": {},
   "source": [
    "<div style=\"display:flex;flex-direction:row;justify-content: space-evenly;\">\n",
    "<img src=\"tecnm.png\" style=\"height:100px;\"/>\n",
    "<img src=\"itcolima.svg\" style=\"width:100px\"/>\n",
    "</div>\n",
    "<div style=\"display:flex;flex-direction:column;gap:20px;text-align:center\">\n",
    "<h1>Tecnológico Nacional de México campus Colima</h1>\n",
    "<h2>Maestría en Sistemas Computacionales</h2>\n",
    "<h2>Tecnologías de programación</h2>\n",
    "<h2>Reto práctico 2 - Primitivas de sincronización</h2>\n",
    "<h2>D. en C. Patricia Elizabeth Figueroa Millán</h2>\n",
    "<h3>Angel Primitivo Vejar Cortés | G2146001 </h3>\n",
    "<p style=\"text-align:right;\">Villa de Álvarez, Colima - 08 de noviembre de 2022</p>\n",
    "<p></p>\n",
    "</div>"
   ]
  },
  {
   "cell_type": "markdown",
   "metadata": {},
   "source": [
    "# Primitivas de sincronización\n",
    "\n",
    "## Objetivo\n",
    "Que el estudiante investigue y pueda realizar ejemplos aplicando las primitivas de sincronización para la sincronización de hilos y control de acceso a recursos compartidos."
   ]
  },
  {
   "cell_type": "markdown",
   "metadata": {},
   "source": [
    "## Metodología\n",
    "Para el desarrollo de la actividad primero se relalizó una investigación documental por medio de los distintos posts de foros y documentación oficial de Python, para posteriormente realizar un ejemplo de cada primitiva de sincronización que son: \n",
    "- Lock\n",
    "- Semaphore\n",
    "- BoundedSemaphore\n",
    "- Condition\n",
    "- Event\n",
    "- Barrier\n"
   ]
  },
  {
   "cell_type": "markdown",
   "metadata": {},
   "source": [
    "## Materiales\n",
    "Para el desarrollo de la actividad se utilizaron los siguientes materiales:\n",
    "* Computadora con acceso a internet\n",
    "* Editor de texto (Visual Studio Code)\n",
    "* Aplicación jupyter notebook\n"
   ]
  },
  {
   "cell_type": "markdown",
   "metadata": {},
   "source": [
    "## Desarrollo\n",
    "A continuación se presenta una descripción breve de cada primitiva de sincronización así como un ejemplo de su uso.\n",
    "\n"
   ]
  },
  {
   "cell_type": "markdown",
   "metadata": {},
   "source": [
    "### Primitiva de sincronización: Lock\n",
    "\n",
    "La primitiva de sincronización Lock es una herramienta que permite controlar el acceso a una sección crítica de código, es decir, un bloque de código que debe ser ejecutado de manera exclusiva por un solo hilo a la vez. Para utilizar esta primitiva se debe crear un objeto de tipo Lock y utilizar los métodos acquire() y release() para controlar el acceso a la sección crítica [1].\n",
    "\n",
    "En el siguiente ejemplo la sección crítica corresponde en acceder a una variable global e incrementar su valor en 1, para ello se utiliza un ciclo for con cada hilo que toma el lock para incrementarlo y lo suelta para pasar a la siguiente iteración.\n"
   ]
  },
  {
   "cell_type": "code",
   "execution_count": 1,
   "metadata": {},
   "outputs": [
    {
     "name": "stderr",
     "output_type": "stream",
     "text": [
      "2022-11-08 23:33:14,183 (hilo 0) Iniciando\n",
      "2022-11-08 23:33:14,188 (hilo 1) Iniciando\n",
      "2022-11-08 23:33:14,188 (hilo 0) Finalizando\n",
      "2022-11-08 23:33:14,193 (hilo 2) Iniciando\n",
      "2022-11-08 23:33:14,194 (hilo 1) Finalizando\n",
      "2022-11-08 23:33:14,194 (hilo 3) Iniciando\n",
      "2022-11-08 23:33:14,195 (hilo 4) Iniciando\n",
      "2022-11-08 23:33:14,204 (hilo 2) Finalizando\n",
      "2022-11-08 23:33:14,209 (hilo 3) Finalizando\n",
      "2022-11-08 23:33:14,213 (hilo 4) Finalizando\n"
     ]
    },
    {
     "name": "stdout",
     "output_type": "stream",
     "text": [
      "Valor del contador: 50\n"
     ]
    }
   ],
   "source": [
    "import threading\n",
    "from time import sleep\n",
    "import logging\n",
    "\n",
    "logging.basicConfig(\n",
    "    level=logging.DEBUG,\n",
    "    format='%(asctime)s (%(threadName)-2s) %(message)s',\n",
    ")\n",
    "\n",
    "# variable global\n",
    "counter = 0\n",
    "\n",
    "# método que incrementa el contador\n",
    "def tarea(lock):\n",
    "    global counter\n",
    "    logging.debug('Iniciando')\n",
    "    for _ in range(10):\n",
    "        lock.acquire()\n",
    "        counter += 1\n",
    "        lock.release()\n",
    "    logging.debug('Finalizando')\n",
    "\n",
    "# creación de primitiva lock\n",
    "lock = threading.Lock()\n",
    "\n",
    "# crear hilos\n",
    "for i in range(5):\n",
    "    threading.Thread(target=tarea, args=(lock,),name=\"hilo \"+str(i)).start()\n",
    "\n",
    "sleep(0.1)\n",
    "\n",
    "# esperar a que terminen los hilos\n",
    "for i in threading.enumerate():\n",
    "    if i.name.startswith(\"hilo\"):\n",
    "        i.join()\n",
    "\n",
    "# imprimir el valor del contador\n",
    "print(f'Valor del contador: {counter}')"
   ]
  },
  {
   "cell_type": "markdown",
   "metadata": {},
   "source": [
    "Es posible obtener el mismo resultado utilizando la sentencia with, la cual se encarga de llamar a los métodos acquire() y release() de forma automática."
   ]
  },
  {
   "cell_type": "code",
   "execution_count": 2,
   "metadata": {},
   "outputs": [
    {
     "name": "stderr",
     "output_type": "stream",
     "text": [
      "2022-11-08 23:33:14,401 (hilo 0) Iniciando\n",
      "2022-11-08 23:33:14,406 (hilo 1) Iniciando\n",
      "2022-11-08 23:33:14,407 (hilo 0) Finalizando\n",
      "2022-11-08 23:33:14,411 (hilo 2) Iniciando\n",
      "2022-11-08 23:33:14,412 (hilo 3) Iniciando\n",
      "2022-11-08 23:33:14,414 (hilo 4) Iniciando\n",
      "2022-11-08 23:33:14,415 (hilo 1) Finalizando\n",
      "2022-11-08 23:33:14,421 (hilo 2) Finalizando\n",
      "2022-11-08 23:33:14,426 (hilo 3) Finalizando\n",
      "2022-11-08 23:33:14,432 (hilo 4) Finalizando\n"
     ]
    },
    {
     "name": "stdout",
     "output_type": "stream",
     "text": [
      "Valor del contador: 50\n"
     ]
    }
   ],
   "source": [
    "import threading\n",
    "from time import sleep\n",
    "import logging\n",
    "\n",
    "logging.basicConfig(\n",
    "    level=logging.DEBUG,\n",
    "    format='%(asctime)s (%(threadName)-2s) %(message)s',\n",
    ")\n",
    "\n",
    "# variable global\n",
    "counter = 0\n",
    "\n",
    "# método que incrementa el contador\n",
    "def tarea(lock):\n",
    "    global counter\n",
    "    logging.debug('Iniciando')\n",
    "    for _ in range(10):\n",
    "        with lock: # sustituye a lock.acquire() y lock.release()\n",
    "            counter += 1\n",
    "    logging.debug('Finalizando')\n",
    "\n",
    "# creación de primitiva lock\n",
    "lock = threading.Lock()\n",
    "\n",
    "# crear hilos\n",
    "for i in range(5):\n",
    "    threading.Thread(target=tarea, args=(lock,),name=\"hilo \"+str(i)).start()\n",
    "\n",
    "sleep(0.1)\n",
    "\n",
    "# esperar a que terminen los hilos\n",
    "for i in threading.enumerate():\n",
    "    if i.name.startswith(\"hilo\"):\n",
    "        i.join()\n",
    "\n",
    "# imprimir el valor del contador\n",
    "print(f'Valor del contador: {counter}')"
   ]
  },
  {
   "cell_type": "markdown",
   "metadata": {},
   "source": [
    "## Primitiva de sincronización: Event\n",
    "\n",
    "La primitiva de sincronización Event es una herramienta que permite sincronizar la ejecución de hilos, es decir, permite que un hilo espere a que otro hilo notifique que ha terminado de ejecutar una tarea. Para utilizar esta primitiva se debe crear un objeto de tipo Event y utilizar los métodos wait() y set() para controlar la sincronización de hilos [2]."
   ]
  },
  {
   "cell_type": "code",
   "execution_count": 3,
   "metadata": {},
   "outputs": [
    {
     "name": "stderr",
     "output_type": "stream",
     "text": [
      "2022-11-08 23:33:14,638 (hilo pong) //Esperando por PING\n",
      "2022-11-08 23:33:15,648 (hilo ping) PING!!!\n",
      "2022-11-08 23:33:15,655 (hilo pong) PONG!!!\n"
     ]
    }
   ],
   "source": [
    "import threading\n",
    "from time import sleep\n",
    "import logging\n",
    "\n",
    "logging.basicConfig(\n",
    "    level=logging.DEBUG,\n",
    "    format='%(asctime)s (%(threadName)-2s) %(message)s',\n",
    ")\n",
    "\n",
    "# método que activa el evento\n",
    "def make_ping(event):\n",
    "    logging.debug('PING!!!')\n",
    "    event.set()\n",
    "\n",
    "# método que requiere un evento para continuar\n",
    "def make_pong(event):\n",
    "    # esperar por el evento\n",
    "    logging.debug('//Esperando por PING')\n",
    "    event.wait()\n",
    "    logging.debug('PONG!!!')\n",
    "\n",
    "\n",
    "# creación de evento\n",
    "event = threading.Event()\n",
    "\n",
    "# crear hilos\n",
    "\n",
    "# se crea el hilo que requiere el evento\n",
    "threading.Thread(target=make_pong, args=(event,),name=\"hilo pong\").start()\n",
    "\n",
    "sleep(1) # esperar un segundo para demostrar que el hilo pong espera por el evento\n",
    "\n",
    "# se crea el hilo que activa el evento\n",
    "threading.Thread(target=make_ping, args=(event,),name=\"hilo ping\").start()\n"
   ]
  },
  {
   "cell_type": "markdown",
   "metadata": {},
   "source": [
    "Es posible agregar un timeout al método wait() para que el hilo espere un tiempo determinado antes de continuar con su ejecución, con el objetivo de evitar que un hilo espere indefinidamente."
   ]
  },
  {
   "cell_type": "code",
   "execution_count": 4,
   "metadata": {},
   "outputs": [
    {
     "name": "stderr",
     "output_type": "stream",
     "text": [
      "2022-11-08 23:33:15,767 (hilo pong) //Esperando por PING\n",
      "2022-11-08 23:33:16,778 (hilo pong) No se recibió PING a tiempo :(\n",
      "2022-11-08 23:33:18,777 (hilo ping) PING!!!\n"
     ]
    }
   ],
   "source": [
    "import threading\n",
    "from time import sleep\n",
    "import logging\n",
    "\n",
    "logging.basicConfig(\n",
    "    level=logging.DEBUG,\n",
    "    format='%(asctime)s (%(threadName)-2s) %(message)s',\n",
    ")\n",
    "# método que activa el evento\n",
    "def make_ping(event):\n",
    "    logging.debug('PING!!!')\n",
    "    event.set()\n",
    "\n",
    "# método que requiere un evento para continuar\n",
    "def make_pong(event,timeout):\n",
    "    # esperar por el evento\n",
    "    logging.debug('//Esperando por PING')\n",
    "    res = event.wait(timeout)\n",
    "    if res:\n",
    "        logging.debug('PONG!!!')\n",
    "    else:\n",
    "        logging.debug('No se recibió PING a tiempo :(')\n",
    "\n",
    "\n",
    "# creación de evento\n",
    "event = threading.Event()\n",
    "\n",
    "# crear hilos\n",
    "\n",
    "# se crea el hilo que requiere el evento\n",
    "threading.Thread(target=make_pong, args=(event,1),name=\"hilo pong\").start()\n",
    "\n",
    "sleep(3) # esperar un segundo para demostrar que el hilo pong espera por el evento\n",
    "\n",
    "# se crea el hilo que activa el evento\n",
    "threading.Thread(target=make_ping, args=(event,),name=\"hilo ping\").start()\n"
   ]
  },
  {
   "cell_type": "markdown",
   "metadata": {},
   "source": [
    "## Primitiva de sincronización: Condition\n",
    "\n",
    "La primitiva de sincronización Condition es una herramienta que permite sincronizar la ejecución de hilos, es decir, permite que un hilo espere a que otro hilo notifique que ha terminado de ejecutar una tarea. Para utilizar esta primitiva se debe crear un objeto de tipo Condition y utilizar los métodos wait(), notify() y notify_all() para controlar la sincronización de hilos [3]."
   ]
  },
  {
   "cell_type": "code",
   "execution_count": 5,
   "metadata": {},
   "outputs": [
    {
     "name": "stderr",
     "output_type": "stream",
     "text": [
      "2022-11-08 23:33:18,879 (hilo comprador 1) Esperando por el pan\n",
      "2022-11-08 23:33:18,888 (hilo comprador 2) Esperando por el pan\n",
      "2022-11-08 23:33:18,894 (hilo comprador 3) Esperando por el pan\n",
      "2022-11-08 23:33:19,902 (hilo panadero) Preparando pan\n",
      "2022-11-08 23:33:20,916 (hilo panadero) Pan listo\n"
     ]
    },
    {
     "name": "stdout",
     "output_type": "stream",
     "text": [
      "hilo comprador 2 compró el pan\n",
      "hilo comprador 3 compró el pan\n",
      "hilo comprador 1 compró el pan\n"
     ]
    }
   ],
   "source": [
    "import threading\n",
    "from time import sleep\n",
    "import logging\n",
    "\n",
    "logging.basicConfig(\n",
    "    level=logging.DEBUG,\n",
    "    format='%(asctime)s (%(threadName)-2s) %(message)s',\n",
    ")\n",
    "\n",
    "# método que requiere la condición\n",
    "def comprar_pan(condicion):\n",
    "    with condicion:\n",
    "        logging.debug('Esperando por el pan')\n",
    "        condicion.wait()\n",
    "        print(threading.current_thread().name + ' compró el pan') \n",
    "\n",
    "# método que prepara el pan\n",
    "def preparar_pan(condicion):\n",
    "    logging.debug('Preparando pan')\n",
    "    sleep(1)\n",
    "    logging.debug('Pan listo')\n",
    "    sleep(0.001)\n",
    "    with condicion:\n",
    "        condicion.notify_all()\n",
    "\n",
    "# creación de condición\n",
    "condicion = threading.Condition()\n",
    "\n",
    "# crear hilos\n",
    "threading.Thread(target=comprar_pan, args=(condicion,),name=\"hilo comprador 1\").start()\n",
    "threading.Thread(target=comprar_pan, args=(condicion,),name=\"hilo comprador 2\").start()\n",
    "threading.Thread(target=comprar_pan, args=(condicion,),name=\"hilo comprador 3\").start()\n",
    "\n",
    "sleep(1) # esperar un segundo para demostrar que los hilos compradores esperan por el pan\n",
    "\n",
    "# se crea el hilo que prepara el pan\n",
    "threading.Thread(target=preparar_pan, args=(condicion,),name=\"hilo panadero\").start()\n",
    "\n",
    "# join \n",
    "for i in threading.enumerate():\n",
    "    if i.name.startswith(\"hilo\"):\n",
    "        i.join()"
   ]
  },
  {
   "cell_type": "markdown",
   "metadata": {},
   "source": [
    "## Primitiva de sincronización: Semaphore\n",
    "\n",
    "Un semáforo gestiona un contador interno que se reduce con cada llamada de acquire() y se incrementa con cada llamada de release(). El contador no puede bajar nunca por debajo de cero; cuando acquire() encuentra que es cero, se bloquea, esperando hasta que otro hilo llame a release()\n",
    "Hay muchos casos en los que podemos querer permitir que más de un trabajador acceda a un recurso y al mismo tiempo limitar la cantidad total de accesos [4].\n",
    "\n",
    "En el siguiente ejemplo se simula una conexión a una base de datos, en la cual se puede tener un máximo de 3 conexiones simultáneas, para ello se crea un semáforo con un valor inicial de 3 y se utiliza with para controlar el acceso a la sección crítica (en lugar de utilizar los métodos acquire() y release()), cada conexión y desconexión se imprime en pantalla para verificar que no se exceda el máximo de conexiones simultáneas."
   ]
  },
  {
   "cell_type": "code",
   "execution_count": 6,
   "metadata": {},
   "outputs": [
    {
     "name": "stderr",
     "output_type": "stream",
     "text": [
      "2022-11-08 23:33:21,041 (hilo 0) Esperando por conexión\n",
      "2022-11-08 23:33:21,048 (hilo 1) Esperando por conexión\n",
      "2022-11-08 23:33:21,052 (hilo 2) Esperando por conexión\n",
      "2022-11-08 23:33:21,054 (hilo 3) Esperando por conexión\n",
      "2022-11-08 23:33:21,055 (hilo 4) Esperando por conexión\n",
      "2022-11-08 23:33:21,059 (hilo 5) Esperando por conexión\n",
      "2022-11-08 23:33:21,061 (hilo 6) Esperando por conexión\n"
     ]
    },
    {
     "name": "stdout",
     "output_type": "stream",
     "text": [
      "Conexiones activas: ['hilo 0']\n"
     ]
    },
    {
     "name": "stderr",
     "output_type": "stream",
     "text": [
      "2022-11-08 23:33:21,067 (hilo 7) Esperando por conexión\n",
      "2022-11-08 23:33:21,068 (hilo 8) Esperando por conexión\n",
      "2022-11-08 23:33:21,074 (hilo 9) Esperando por conexión\n"
     ]
    },
    {
     "name": "stdout",
     "output_type": "stream",
     "text": [
      "Conexiones activas: ['hilo 0', 'hilo 1']\n",
      "Conexiones activas: ['hilo 0', 'hilo 1', 'hilo 2']\n",
      "Conexiones activas: ['hilo 1', 'hilo 2']\n",
      "Conexiones activas: ['hilo 2']\n",
      "Conexiones activas: ['hilo 2', 'hilo 3']\n",
      "Conexiones activas: ['hilo 3']\n",
      "Conexiones activas: ['hilo 3', 'hilo 4']\n",
      "Conexiones activas: ['hilo 3', 'hilo 4', 'hilo 5']\n",
      "Conexiones activas: ['hilo 4', 'hilo 5']\n",
      "Conexiones activas: ['hilo 4', 'hilo 5', 'hilo 6']\n",
      "Conexiones activas: ['hilo 5', 'hilo 6']\n",
      "Conexiones activas: ['hilo 5', 'hilo 6', 'hilo 7']\n",
      "Conexiones activas: ['hilo 6', 'hilo 7']\n",
      "Conexiones activas: ['hilo 6', 'hilo 7', 'hilo 8']\n",
      "Conexiones activas: ['hilo 7', 'hilo 8']\n",
      "Conexiones activas: ['hilo 7', 'hilo 8', 'hilo 9']\n",
      "Conexiones activas: ['hilo 8', 'hilo 9']\n",
      "Conexiones activas: ['hilo 9']\n",
      "Conexiones activas: []\n"
     ]
    }
   ],
   "source": [
    "import threading\n",
    "from time import sleep\n",
    "import logging\n",
    "\n",
    "logging.basicConfig(\n",
    "    level=logging.DEBUG,\n",
    "    format='%(asctime)s (%(threadName)-2s) %(message)s',\n",
    ")\n",
    "\n",
    "# clase que administra la conexión de base de datos\n",
    "class DBManager:\n",
    "    def __init__(self) -> None:\n",
    "        self.lock = threading.Lock()\n",
    "        self.active_connections = []\n",
    "\n",
    "    def connect(self, name):\n",
    "        with self.lock:\n",
    "            self.active_connections.append(name)\n",
    "            print(f'Conexiones activas: {self.active_connections}')\n",
    "            sleep(0.1)\n",
    "    \n",
    "    def disconnect(self, name):\n",
    "        with self.lock:\n",
    "            self.active_connections.remove(name)\n",
    "            print(f'Conexiones activas: {self.active_connections}')\n",
    "            sleep(0.1)\n",
    "\n",
    "# método que simula la conexión a la base de datos\n",
    "def handle_request(manager, semaphore):\n",
    "    logging.debug('Esperando por conexión')\n",
    "    with semaphore:\n",
    "        name = threading.current_thread().name\n",
    "        manager.connect(name)\n",
    "        sleep(1)\n",
    "        manager.disconnect(name)\n",
    "\n",
    "# creación de semáforo\n",
    "semaphore = threading.Semaphore(3)\n",
    "\n",
    "# creación de administrador de base de datos\n",
    "manager = DBManager()\n",
    "\n",
    "# crear hilos\n",
    "for i in range(10):\n",
    "    threading.Thread(target=handle_request, args=(manager, semaphore),name=\"hilo \"+str(i)).start()\n",
    "\n",
    "# join \n",
    "for i in threading.enumerate():\n",
    "    if i.name.startswith(\"hilo\"):\n",
    "        i.join()"
   ]
  },
  {
   "cell_type": "markdown",
   "metadata": {},
   "source": [
    "## Primitiva de sincronización: BoundedSemaphore\n",
    "\n",
    "Un semáforo \"encerrado\" se puede visualizar como una versión más segura del semáforo puesto que este no permite que el contador interno baje por debajo de cero ni que suba por encima de su valor inicial (Si es 3 no se pueden subir a 4, cosa que sí es posible con el semáforo básico), en caso de utilizar release() cuando el contador es el valor inicial este hilo activa una excepción (error) [5].\n",
    "\n",
    "Se parte del ejemplo anterior, en donde se limita la conexión a una base de datos, sin embargo, el último hilo intenta liberar el semáforo más de una vez, lo cual genera una excepción."
   ]
  },
  {
   "cell_type": "code",
   "execution_count": 7,
   "metadata": {},
   "outputs": [
    {
     "name": "stderr",
     "output_type": "stream",
     "text": [
      "2022-11-08 23:33:26,206 (hilo 0) Esperando por conexión\n",
      "2022-11-08 23:33:26,213 (hilo 1) Esperando por conexión\n",
      "2022-11-08 23:33:26,217 (hilo 2) Esperando por conexión\n",
      "2022-11-08 23:33:26,218 (hilo 3) Esperando por conexión\n",
      "2022-11-08 23:33:26,221 (hilo 4) Esperando por conexión\n",
      "2022-11-08 23:33:26,221 (hilo 5) Esperando por conexión\n",
      "2022-11-08 23:33:26,223 (hilo 6) Esperando por conexión\n",
      "2022-11-08 23:33:26,226 (hilo 7) Esperando por conexión\n",
      "2022-11-08 23:33:26,226 (hilo 8) Esperando por conexión\n",
      "2022-11-08 23:33:26,229 (hilo 9) Esperando por conexión\n"
     ]
    },
    {
     "name": "stdout",
     "output_type": "stream",
     "text": [
      "Conexiones activas: ['hilo 0']\n",
      "Conexiones activas: ['hilo 0', 'hilo 1']\n",
      "Conexiones activas: ['hilo 0', 'hilo 1', 'hilo 2']\n",
      "Conexiones activas: ['hilo 1', 'hilo 2']\n",
      "Conexiones activas: ['hilo 2']\n",
      "Conexiones activas: ['hilo 2', 'hilo 3']\n",
      "Conexiones activas: ['hilo 3']\n",
      "Conexiones activas: ['hilo 3', 'hilo 4']\n",
      "Conexiones activas: ['hilo 3', 'hilo 4', 'hilo 5']\n",
      "Conexiones activas: ['hilo 4', 'hilo 5']\n",
      "Conexiones activas: ['hilo 4', 'hilo 5', 'hilo 6']\n",
      "Conexiones activas: ['hilo 5', 'hilo 6']\n",
      "Conexiones activas: ['hilo 6']\n",
      "Conexiones activas: ['hilo 6', 'hilo 7']\n",
      "Conexiones activas: ['hilo 6', 'hilo 7', 'hilo 8']\n",
      "Conexiones activas: ['hilo 7', 'hilo 8']\n",
      "Conexiones activas: ['hilo 7', 'hilo 8', 'hilo 9']\n",
      "Conexiones activas: ['hilo 8', 'hilo 9']\n",
      "Conexiones activas: ['hilo 9']\n"
     ]
    },
    {
     "name": "stderr",
     "output_type": "stream",
     "text": [
      "Exception in thread hilo 9:\n",
      "Traceback (most recent call last):\n",
      "  File \"c:\\Users\\ANGEL\\AppData\\Local\\Programs\\Python\\Python39\\lib\\threading.py\", line 973, in _bootstrap_inner\n",
      "    self.run()\n",
      "  File \"c:\\Users\\ANGEL\\AppData\\Local\\Programs\\Python\\Python39\\lib\\threading.py\", line 910, in run\n",
      "    self._target(*self._args, **self._kwargs)\n",
      "  File \"C:\\Users\\ANGEL\\AppData\\Local\\Temp\\ipykernel_28868\\2687660180.py\", line 38, in handle_request\n",
      "  File \"c:\\Users\\ANGEL\\AppData\\Local\\Programs\\Python\\Python39\\lib\\threading.py\", line 504, in release\n",
      "    raise ValueError(\"Semaphore released too many times\")\n",
      "ValueError: Semaphore released too many times\n"
     ]
    },
    {
     "name": "stdout",
     "output_type": "stream",
     "text": [
      "Conexiones activas: []\n"
     ]
    }
   ],
   "source": [
    "import threading\n",
    "from time import sleep\n",
    "import logging\n",
    "\n",
    "logging.basicConfig(\n",
    "    level=logging.DEBUG,\n",
    "    format='%(asctime)s (%(threadName)-2s) %(message)s',\n",
    ")\n",
    "# clase que administra la conexión de base de datos\n",
    "class DBManager:\n",
    "    def __init__(self) -> None:\n",
    "        self.lock = threading.Lock()\n",
    "        self.active_connections = []\n",
    "\n",
    "    def connect(self, name):\n",
    "        with self.lock:\n",
    "            self.active_connections.append(name)\n",
    "            print(f'Conexiones activas: {self.active_connections}')\n",
    "            sleep(0.1)\n",
    "    \n",
    "    def disconnect(self, name):\n",
    "        with self.lock:\n",
    "            self.active_connections.remove(name)\n",
    "            print(f'Conexiones activas: {self.active_connections}')\n",
    "            sleep(0.1)\n",
    "\n",
    "# método que simula la conexión a la base de datos\n",
    "def handle_request(manager, semaphore,breaker):\n",
    "    logging.debug('Esperando por conexión')\n",
    "    semaphore.acquire()\n",
    "    name = threading.current_thread().name\n",
    "    manager.connect(name)\n",
    "    sleep(1)\n",
    "    manager.disconnect(name)\n",
    "    semaphore.release()\n",
    "\n",
    "    if(breaker):\n",
    "        semaphore.release()\n",
    "\n",
    "# creación de semáforo\n",
    "semaphore = threading.BoundedSemaphore(3)\n",
    "\n",
    "# creación de administrador de base de datos\n",
    "manager = DBManager()\n",
    "\n",
    "# crear hilos\n",
    "for i in range(10):\n",
    "    threading.Thread(target=handle_request, args=(manager, semaphore, i == 9),name=\"hilo \"+str(i)).start()\n",
    "\n",
    "# join \n",
    "for i in threading.enumerate():\n",
    "    if i.name.startswith(\"hilo\"):\n",
    "        i.join()"
   ]
  },
  {
   "cell_type": "markdown",
   "metadata": {},
   "source": [
    "## Primitiva de sincronización: Barrier\n",
    "\n",
    "Una barrera es un objeto que permite sincronizar la ejecución de un grupo de hilos, es decir, permite que un grupo de hilos espere a que otro grupo de hilos notifique que ha terminado de ejecutar una tarea. Para utilizar esta primitiva se debe crear un objeto de tipo Barrier y utilizar los métodos wait() para controlar la sincronización de hilos [6]."
   ]
  },
  {
   "cell_type": "code",
   "execution_count": 8,
   "metadata": {},
   "outputs": [
    {
     "name": "stderr",
     "output_type": "stream",
     "text": [
      "2022-11-08 23:33:33,351 (hilo 1) Esperando a los panas\n",
      "2022-11-08 23:33:35,360 (hilo 2) Esperando a los panas\n",
      "2022-11-08 23:33:36,355 (hilo 3) Esperando a los panas\n",
      "2022-11-08 23:33:36,359 (hilo 3) El poder de la amistad!!!\n",
      "2022-11-08 23:33:36,364 (hilo 1) El poder de la amistad!!!\n",
      "2022-11-08 23:33:36,364 (hilo 2) El poder de la amistad!!!\n"
     ]
    }
   ],
   "source": [
    "import threading\n",
    "from time import sleep\n",
    "import logging\n",
    "\n",
    "logging.basicConfig(\n",
    "    level=logging.DEBUG,\n",
    "    format='%(asctime)s (%(threadName)-2s) %(message)s',\n",
    ")\n",
    "# método que simula la conexión a la base de datos\n",
    "def tarea(barrier, time):\n",
    "    sleep(time)\n",
    "    logging.debug('Esperando a los panas')\n",
    "    barrier.wait()\n",
    "    logging.debug('El poder de la amistad!!!')\n",
    "\n",
    "# creación de barrera\n",
    "barrier = threading.Barrier(3)\n",
    "\n",
    "# crear hilos\n",
    "threading.Thread(target=tarea, args=(barrier, 2),name=\"hilo 1\").start()\n",
    "threading.Thread(target=tarea, args=(barrier, 4),name=\"hilo 2\").start()\n",
    "threading.Thread(target=tarea, args=(barrier, 5),name=\"hilo 3\").start()\n",
    "\n",
    "# join \n",
    "for i in threading.enumerate():\n",
    "    if i.name.startswith(\"hilo\"):\n",
    "        i.join()"
   ]
  },
  {
   "cell_type": "markdown",
   "metadata": {},
   "source": [
    "# Resultados\n",
    "\n",
    "Estos pueden ser observados en la consola de la aplicación jupyter notebook después de cada sección de código, en donde se imprime información que permite la compresión fácil de cada primitiva de sincronización, además, se recomienda visualizar el tiempo de diferencia entre las impresiones de mensajes puesto que algunas al estar separadas por un par de milisegundos representa una ejecución simultánea de hilos."
   ]
  },
  {
   "cell_type": "markdown",
   "metadata": {},
   "source": [
    "## Conclusiones\n",
    "\n",
    "El uso de primitivas de sincronización permite programar de forma concurrente, aunque son útiles para proteger secciones críticas de código estas pueden tener un impacto en el rendimiento del programa (tiempod de ejecución), además, pueden ser utilizadas para sincronizar la ejecución de hilos, es decir, para que un hilo espere a que otro hilo notifique que ha terminado de ejecutar una tarea, tal es el caso de barrier que los hilos se esperan mutuamente para continuar con su ejecución o el caso de lock el cual evita más de una ejecución de una sección crítica de código."
   ]
  },
  {
   "cell_type": "markdown",
   "metadata": {},
   "source": [
    "## Bibliografía\n",
    "1. https://www.bogotobogo.com/python/Multithread/python_multithreading_Synchronization_Lock_Objects_Acquire_Release.php\n",
    "2. https://www.bogotobogo.com/python/Multithread/python_multithreading_Event_Objects_between_Threads.php\n",
    "3. https://www.bogotobogo.com/python/Multithread/python_multithreading_Synchronization_Condition_Objects_Producer_Consumer.php\n",
    "4. https://www.bogotobogo.com/python/Multithread/python_multithreading_Synchronization_Semaphore_Objects_Thread_Pool.php\n",
    "5. https://stackoverflow.com/questions/48971121/what-is-the-difference-between-semaphore-and-boundedsemaphore\n",
    "6. https://www.geeksforgeeks.org/barrier-objects-python/"
   ]
  }
 ],
 "metadata": {
  "kernelspec": {
   "display_name": "Python 3.9.9 64-bit",
   "language": "python",
   "name": "python3"
  },
  "language_info": {
   "codemirror_mode": {
    "name": "ipython",
    "version": 3
   },
   "file_extension": ".py",
   "mimetype": "text/x-python",
   "name": "python",
   "nbconvert_exporter": "python",
   "pygments_lexer": "ipython3",
   "version": "3.9.9"
  },
  "orig_nbformat": 4,
  "vscode": {
   "interpreter": {
    "hash": "c185466993fccbc93f07b531b3cfa535f0926b935ac87c3d61eac1e4e571a025"
   }
  }
 },
 "nbformat": 4,
 "nbformat_minor": 2
}

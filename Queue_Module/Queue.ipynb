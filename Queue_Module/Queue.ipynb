{
    "cells": [
        {
            "cell_type": "markdown",
            "metadata": {},
            "source": [
                "<div style=\"display:flex;flex-direction:row;justify-content: space-evenly;\">\n",
                "<img src=\"tecnm.png\" style=\"height:100px;\"/>\n",
                "<img src=\"itcolima.svg\" style=\"width:100px\"/>\n",
                "</div>\n",
                "<div style=\"display:flex;flex-direction:column;gap:20px;text-align:center\">\n",
                "<h1>Tecnológico Nacional de México campus Colima</h1>\n",
                "<h2>Maestría en Sistemas Computacionales</h2>\n",
                "<h2>Tecnologías de programación</h2>\n",
                "<h2>Reto práctico 3 - Colas multiproductor y multiconsumidor</h2>\n",
                "<h2>D. en C. Patricia Elizabeth Figueroa Millán</h2>\n",
                "<h3>Angel Primitivo Vejar Cortés | G2146001 </h3>\n",
                "<p style=\"text-align:right;\">Villa de Álvarez, Colima - 09 de noviembre de 2022</p>\n",
                "<p></p>\n",
                "</div>"
            ]
        },
        {
            "cell_type": "markdown",
            "metadata": {},
            "source": [
                "# Colas multiproductor y multiconsumidor\n",
                "\n",
                "## Objetivo\n",
                "Que el estudiante investigue y pueda realizar ejemplos aplicando colas multiproductor y multiconsumidor con el módulo Queue de Python."
            ]
        },
        {
            "cell_type": "markdown",
            "metadata": {},
            "source": [
                "## Metodología\n",
                "Para el desarrollo de la actividad primero se relalizó una investigación documental por medio de los distintos posts de foros y documentación oficial de Python, para posteriormente realizar un ejemplo utilizando el módulo Queue de Python.\n"
            ]
        },
        {
            "cell_type": "markdown",
            "metadata": {},
            "source": [
                "## Materiales\n",
                "Para el desarrollo de la actividad se utilizaron los siguientes materiales:\n",
                "* Computadora con acceso a internet\n",
                "* Editor de texto (Visual Studio Code)\n",
                "* Aplicación jupyter notebook\n"
            ]
        },
        {
            "cell_type": "markdown",
            "metadata": {},
            "source": [
                "## Desarrollo\n",
                "A continuación se presenta una breve descripción del módulo Queue de Python así como un ejemplo utilizando esta.\n",
                "\n"
            ]
        },
        {
            "cell_type": "markdown",
            "metadata": {},
            "source": [
                "### Módulo Queue\n",
                "\n",
                "El módulo Queue de Python es un módulo que permite la implementación de colas en Python, este módulo cuenta con las siguientes clases [1]:\n",
                "\n",
                "* Queue: Clase que implementa una cola FIFO (First In First Out).\n",
                "* LifoQueue: Clase que implementa una cola LIFO (Last In First Out).\n",
                "* PriorityQueue: Clase que implementa una cola de prioridad.\n",
                "\n",
                "A continuación se presenta un ejemplo de la clase Queue de Python, cabe destacar que la secuencia de despacho es en orden (el primero en llegar es el primero en salir) [2]:"
            ]
        },
        {
            "cell_type": "code",
            "execution_count": 1,
            "metadata": {},
            "outputs": [
                {
                    "name": "stderr",
                    "output_type": "stream",
                    "text": [
                        "2022-11-09 14:53:00,820 (hilo 0) A procesado\n",
                        "2022-11-09 14:53:00,824 (hilo 1) B procesado\n",
                        "2022-11-09 14:53:00,825 (hilo 0) C procesado\n",
                        "2022-11-09 14:53:00,826 (hilo 2) D procesado\n",
                        "2022-11-09 14:53:00,829 (hilo 3) E procesado\n",
                        "2022-11-09 14:53:00,830 (hilo 1) F procesado\n",
                        "2022-11-09 14:53:00,830 (hilo 4) G procesado\n",
                        "2022-11-09 14:53:00,831 (hilo 0) H procesado\n",
                        "2022-11-09 14:53:00,834 (hilo 2) I procesado\n",
                        "2022-11-09 14:53:00,839 (hilo 3) J procesado\n",
                        "2022-11-09 14:53:00,840 (hilo 1) K procesado\n",
                        "2022-11-09 14:53:00,844 (hilo 4) L procesado\n",
                        "2022-11-09 14:53:00,845 (hilo 0) M procesado\n",
                        "2022-11-09 14:53:00,846 (hilo 2) N procesado\n",
                        "2022-11-09 14:53:00,847 (hilo 3) O procesado\n",
                        "2022-11-09 14:53:00,848 (hilo 1) P procesado\n",
                        "2022-11-09 14:53:00,848 (hilo 4) Q procesado\n",
                        "2022-11-09 14:53:00,850 (hilo 0) R procesado\n",
                        "2022-11-09 14:53:00,852 (hilo 2) S procesado\n",
                        "2022-11-09 14:53:00,854 (hilo 3) T procesado\n",
                        "2022-11-09 14:53:00,855 (hilo 1) U procesado\n",
                        "2022-11-09 14:53:00,856 (hilo 4) V procesado\n",
                        "2022-11-09 14:53:00,858 (hilo 0) W procesado\n",
                        "2022-11-09 14:53:00,860 (hilo 2) X procesado\n",
                        "2022-11-09 14:53:00,862 (hilo 3) Y procesado\n",
                        "2022-11-09 14:53:00,865 (hilo 1) Z procesado\n"
                    ]
                },
                {
                    "name": "stdout",
                    "output_type": "stream",
                    "text": [
                        "All work completed\n"
                    ]
                }
            ],
            "source": [
                "import threading\n",
                "import queue\n",
                "from time import sleep\n",
                "import logging\n",
                "\n",
                "logging.basicConfig(\n",
                "    level=logging.DEBUG,\n",
                "    format='%(asctime)s (%(threadName)-2s) %(message)s',\n",
                ")\n",
                "\n",
                "# Método que se ejecutará en el hilo \n",
                "def worker():\n",
                "    while True: # Ciclo infinito \n",
                "        item = q.get()\n",
                "        logging.debug(f'{item} procesado')\n",
                "        q.task_done()\n",
                "\n",
                "q = queue.Queue()\n",
                "\n",
                "# Enviar elementos a la cola\n",
                "for item in range(65, 91):\n",
                "    q.put(chr(item))\n",
                "\n",
                "# Iniciar hilos trabajadores\n",
                "for i in range(5):\n",
                "    threading.Thread(target=worker,daemon=True,name=\"hilo \" + str(i)).start()\n",
                "\n",
                "# Esperar a que todas las tareas se hayan completado\n",
                "q.join()\n",
                "\n",
                "print('All work completed')"
            ]
        },
        {
            "cell_type": "markdown",
            "metadata": {},
            "source": [
                "A continuación se muestra la implementación de la cola LIFO (Last In First Out):"
            ]
        },
        {
            "cell_type": "code",
            "execution_count": 2,
            "metadata": {},
            "outputs": [
                {
                    "name": "stderr",
                    "output_type": "stream",
                    "text": [
                        "2022-11-09 14:53:01,003 (hilo 0) Z procesado\n",
                        "2022-11-09 14:53:01,007 (hilo 1) Y procesado\n",
                        "2022-11-09 14:53:01,008 (hilo 2) X procesado\n",
                        "2022-11-09 14:53:01,008 (hilo 0) W procesado\n",
                        "2022-11-09 14:53:01,009 (hilo 3) V procesado\n",
                        "2022-11-09 14:53:01,012 (hilo 1) U procesado\n",
                        "2022-11-09 14:53:01,012 (hilo 4) T procesado\n",
                        "2022-11-09 14:53:01,016 (hilo 2) S procesado\n",
                        "2022-11-09 14:53:01,018 (hilo 0) R procesado\n",
                        "2022-11-09 14:53:01,023 (hilo 3) Q procesado\n",
                        "2022-11-09 14:53:01,024 (hilo 1) P procesado\n",
                        "2022-11-09 14:53:01,028 (hilo 4) O procesado\n",
                        "2022-11-09 14:53:01,030 (hilo 2) N procesado\n",
                        "2022-11-09 14:53:01,031 (hilo 0) M procesado\n",
                        "2022-11-09 14:53:01,034 (hilo 3) L procesado\n",
                        "2022-11-09 14:53:01,035 (hilo 1) K procesado\n",
                        "2022-11-09 14:53:01,037 (hilo 4) J procesado\n",
                        "2022-11-09 14:53:01,039 (hilo 2) I procesado\n",
                        "2022-11-09 14:53:01,040 (hilo 0) H procesado\n",
                        "2022-11-09 14:53:01,042 (hilo 3) G procesado\n",
                        "2022-11-09 14:53:01,043 (hilo 1) F procesado\n",
                        "2022-11-09 14:53:01,045 (hilo 4) E procesado\n",
                        "2022-11-09 14:53:01,047 (hilo 2) D procesado\n",
                        "2022-11-09 14:53:01,048 (hilo 0) C procesado\n",
                        "2022-11-09 14:53:01,050 (hilo 3) B procesado\n",
                        "2022-11-09 14:53:01,052 (hilo 1) A procesado\n"
                    ]
                },
                {
                    "name": "stdout",
                    "output_type": "stream",
                    "text": [
                        "All work completed\n"
                    ]
                }
            ],
            "source": [
                "import threading\n",
                "import queue\n",
                "from time import sleep\n",
                "import logging\n",
                "\n",
                "logging.basicConfig(\n",
                "    level=logging.DEBUG,\n",
                "    format='%(asctime)s (%(threadName)-2s) %(message)s',\n",
                ")\n",
                "\n",
                "# Método que se ejecutará en el hilo \n",
                "def worker():\n",
                "    while True: # Ciclo infinito \n",
                "        item = q.get()\n",
                "        logging.debug(f'{item} procesado')\n",
                "        q.task_done()\n",
                "\n",
                "q = queue.LifoQueue()\n",
                "\n",
                "# Enviar elementos a la cola\n",
                "for item in range(65, 91):\n",
                "    q.put(chr(item))\n",
                "\n",
                "# Iniciar hilos trabajadores\n",
                "for i in range(5):\n",
                "    threading.Thread(target=worker,daemon=True,name=\"hilo \" + str(i)).start()\n",
                "\n",
                "# Esperar a que todas las tareas se hayan completado\n",
                "q.join()\n",
                "\n",
                "print('All work completed')"
            ]
        },
        {
            "cell_type": "markdown",
            "metadata": {},
            "source": [
                "Por último, es posible implementar colas en las que se maneja prioridad en donde el número más pequeño es el de mayor prioridad, en el siguiente ejemplo se muestra la implementación de una cola de prioridad:"
            ]
        },
        {
            "cell_type": "code",
            "execution_count": 3,
            "metadata": {},
            "outputs": [
                {
                    "name": "stderr",
                    "output_type": "stream",
                    "text": [
                        "2022-11-09 14:53:01,107 (hilo 0) (1, 'A') procesado\n",
                        "2022-11-09 14:53:01,110 (hilo 1) (1, 'E') procesado\n",
                        "2022-11-09 14:53:01,111 (hilo 2) (1, 'I') procesado\n",
                        "2022-11-09 14:53:01,111 (hilo 0) (1, 'O') procesado\n",
                        "2022-11-09 14:53:01,112 (hilo 3) (1, 'U') procesado\n",
                        "2022-11-09 14:53:01,114 (hilo 4) (10, 'B') procesado\n",
                        "2022-11-09 14:53:01,115 (hilo 1) (10, 'C') procesado\n",
                        "2022-11-09 14:53:01,119 (hilo 2) (10, 'D') procesado\n",
                        "2022-11-09 14:53:01,120 (hilo 0) (10, 'F') procesado\n",
                        "2022-11-09 14:53:01,123 (hilo 3) (10, 'G') procesado\n",
                        "2022-11-09 14:53:01,125 (hilo 4) (10, 'H') procesado\n",
                        "2022-11-09 14:53:01,126 (hilo 1) (10, 'J') procesado\n",
                        "2022-11-09 14:53:01,127 (hilo 2) (10, 'K') procesado\n",
                        "2022-11-09 14:53:01,128 (hilo 0) (10, 'L') procesado\n",
                        "2022-11-09 14:53:01,129 (hilo 3) (10, 'M') procesado\n",
                        "2022-11-09 14:53:01,131 (hilo 4) (10, 'N') procesado\n",
                        "2022-11-09 14:53:01,133 (hilo 1) (10, 'P') procesado\n",
                        "2022-11-09 14:53:01,134 (hilo 2) (10, 'Q') procesado\n",
                        "2022-11-09 14:53:01,136 (hilo 0) (10, 'R') procesado\n",
                        "2022-11-09 14:53:01,137 (hilo 3) (10, 'S') procesado\n",
                        "2022-11-09 14:53:01,138 (hilo 4) (10, 'T') procesado\n",
                        "2022-11-09 14:53:01,139 (hilo 1) (10, 'V') procesado\n",
                        "2022-11-09 14:53:01,140 (hilo 2) (10, 'W') procesado\n",
                        "2022-11-09 14:53:01,141 (hilo 0) (10, 'X') procesado\n",
                        "2022-11-09 14:53:01,142 (hilo 3) (10, 'Y') procesado\n",
                        "2022-11-09 14:53:01,144 (hilo 4) (10, 'Z') procesado\n"
                    ]
                },
                {
                    "name": "stdout",
                    "output_type": "stream",
                    "text": [
                        "All work completed\n"
                    ]
                }
            ],
            "source": [
                "import threading\n",
                "import queue\n",
                "from time import sleep\n",
                "import logging\n",
                "\n",
                "logging.basicConfig(\n",
                "    level=logging.DEBUG,\n",
                "    format='%(asctime)s (%(threadName)-2s) %(message)s',\n",
                ")\n",
                "\n",
                "# Método que se ejecutará en el hilo \n",
                "def worker():\n",
                "    while True: # Ciclo infinito \n",
                "        item = q.get()\n",
                "        logging.debug(f'{item} procesado')\n",
                "        q.task_done()\n",
                "\n",
                "q = queue.PriorityQueue()\n",
                "\n",
                "# Enviar elementos a la cola\n",
                "for item in range(65, 91):\n",
                "    priority = 10 # Prioridad predeterminada\n",
                "\n",
                "    # Sólo las vocales tendrán prioridad\n",
                "    if chr(item) in ['A','E','I','O','U']:\n",
                "        priority = 1\n",
                "\n",
                "    q.put((priority,chr(item))) # Tupla con prioridad y elemento\n",
                "\n",
                "# Iniciar hilos trabajadores\n",
                "for i in range(5):\n",
                "    threading.Thread(target=worker,daemon=True,name=\"hilo \" + str(i)).start()\n",
                "\n",
                "# Esperar a que todas las tareas se hayan completado\n",
                "q.join()\n",
                "\n",
                "print('All work completed')"
            ]
        },
        {
            "cell_type": "markdown",
            "metadata": {},
            "source": [
                "# Resultados\n",
                "\n",
                "Estos pueden ser observados en la consola de la aplicación jupyter notebook después de cada sección de código, en la cola simple se nota el patrón cuando el primer elemento en ser agregado es el primero en salir y así sucesivamente, en la cola LIFO se nota que el último elemento en ser agregado es el primero en salir, en la cola de prioridad se nota que el elemento con menor valor es el primero en salir."
            ]
        },
        {
            "cell_type": "markdown",
            "metadata": {},
            "source": [
                "## Conclusiones\n",
                "\n",
                "La implementación de colas multiproductor y multiconsumidor es una herramienta muy útil para el desarrollo de aplicaciones en Python, ya que permite una distribución de carga entre distintos hilos al implementar el módulo threading de Python. El utilizar los distintos tipos de colas permite una mejor organización de los datos y una mejor distribución de la carga entre los hilos, siendo la cola de prioridad la más útil para este tipo de aplicaciones ya que pueden existir elementos con mayor prioridad que otros."
            ]
        },
        {
            "cell_type": "markdown",
            "metadata": {},
            "source": [
                "## Bibliografía\n",
                "1. https://docs.python.org/3/library/queue.html\n",
                "2. https://www.geeksforgeeks.org/queue-in-python/"
            ]
        }
    ],
    "metadata": {
        "kernelspec": {
            "display_name": "Python 3.9.9 64-bit",
            "language": "python",
            "name": "python3"
        },
        "language_info": {
            "codemirror_mode": {
                "name": "ipython",
                "version": 3
            },
            "file_extension": ".py",
            "mimetype": "text/x-python",
            "name": "python",
            "nbconvert_exporter": "python",
            "pygments_lexer": "ipython3",
            "version": "3.9.9"
        },
        "orig_nbformat": 4,
        "vscode": {
            "interpreter": {
                "hash": "c185466993fccbc93f07b531b3cfa535f0926b935ac87c3d61eac1e4e571a025"
            }
        }
    },
    "nbformat": 4,
    "nbformat_minor": 2
}
